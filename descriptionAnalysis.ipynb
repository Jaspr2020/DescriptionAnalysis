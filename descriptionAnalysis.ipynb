{
 "cells": [
  {
   "attachments": {},
   "cell_type": "markdown",
   "metadata": {},
   "source": [
    "Import Modules"
   ]
  },
  {
   "cell_type": "code",
   "execution_count": null,
   "metadata": {},
   "outputs": [],
   "source": [
    "import os\n",
    "import csv"
   ]
  },
  {
   "attachments": {},
   "cell_type": "markdown",
   "metadata": {},
   "source": [
    "Object class"
   ]
  },
  {
   "cell_type": "code",
   "execution_count": null,
   "metadata": {},
   "outputs": [],
   "source": [
    "class object:\n",
    "    def __init__(self, name, tags):\n",
    "        # Object's name\n",
    "        self.name = name\n",
    "        # List of object's tags\n",
    "        self.tags = tags\n",
    "        # Dictionary of object's descriptions {image_name : [descriptions]}\n",
    "        self.descriptions = self.__read_descriptions(self.name)\n",
    "        \n",
    "    def __read_descriptions(self, name):\n",
    "        descriptions = {}\n",
    "        \n",
    "        # Read descriptions from csv file\n",
    "        with open(os.path.join('Descriptions', name + '.csv'), 'r', encoding='utf-8-sig') as csv_file:\n",
    "            csv_reader = csv.reader(csv_file)\n",
    "            # Skip the first row\n",
    "            next(csv_reader)\n",
    "\n",
    "            # For each row in the csv\n",
    "            for row in csv_reader:\n",
    "                    # Read the objects's name and tags\n",
    "                    image_name = row[0]\n",
    "                    image_descriptions = [label.strip(' ') for label in row[1].split(',')]\n",
    "                    # Add the name : descriptions pair to the dictionary\n",
    "                    descriptions[image_name] = image_descriptions\n",
    "        \n",
    "        return descriptions"
   ]
  },
  {
   "attachments": {},
   "cell_type": "markdown",
   "metadata": {},
   "source": [
    "Create an Instance of Every Object"
   ]
  },
  {
   "cell_type": "code",
   "execution_count": null,
   "metadata": {},
   "outputs": [],
   "source": [
    "# List of objects\n",
    "objects = []\n",
    "\n",
    "# Read object tags from csv file\n",
    "with open(os.path.join(\"ObjectTags.csv\"), 'r', encoding='utf-8-sig') as csv_file:\n",
    "    csv_reader = csv.reader(csv_file)\n",
    "    # Skip the first row\n",
    "    next(csv_reader)\n",
    "    # For each row in the csv\n",
    "    for row in csv_reader:\n",
    "        # Read the objects's name and tags\n",
    "        object_name = row[0]\n",
    "        object_labels = [label.strip(' ') for label in row[1].split(',')]\n",
    "        \n",
    "        # Add the object to the list\n",
    "        objects.append(object(object_name, object_labels))"
   ]
  },
  {
   "attachments": {},
   "cell_type": "markdown",
   "metadata": {},
   "source": [
    "Calculate The Percentage of Tag Occurcences Per Object"
   ]
  },
  {
   "cell_type": "code",
   "execution_count": null,
   "metadata": {},
   "outputs": [],
   "source": [
    "def occurrence_per_tag (obj, first_description_only):\n",
    "    occurrence_percents = [0.0] * len(obj.tags) \n",
    "\n",
    "    for index, (tag) in enumerate(obj.tags):\n",
    "        num_occurrences = 0\n",
    "        # Loop through descriptions dictionary\n",
    "        for descriptions in obj.descriptions.values():\n",
    "            if first_description_only:\n",
    "                # If the tag shows up in the first description, add 1 to the counter\n",
    "                if tag in descriptions[0]:\n",
    "                    num_occurrences += 1\n",
    "            else:\n",
    "                # If the tag shows up in any of the descriptions, add 1 to the counter and move to the next image\n",
    "                for description in descriptions:\n",
    "                    if tag in description:\n",
    "                        num_occurrences += 1\n",
    "                        break\n",
    "        \n",
    "        occurrence_percents[index] = num_occurrences / len(obj.descriptions)\n",
    "\n",
    "    return occurrence_percents"
   ]
  },
  {
   "cell_type": "code",
   "execution_count": null,
   "metadata": {},
   "outputs": [],
   "source": [
    "### All Descriptions ###\n",
    "data = []\n",
    "\n",
    "# For each object\n",
    "for obj in objects:\n",
    "    # For each tag + percent occurence pair\n",
    "    for tag, percent in zip(obj.tags, occurrence_per_tag(obj, first_description_only=False)):\n",
    "        # Add to 'data' list\n",
    "        data.append((obj.name, tag, percent))\n",
    "        \n",
    "# Save 'data' as csv\n",
    "with open('NameOccurrence.csv', 'w', newline='') as csv_file:\n",
    "    writer = csv.writer(csv_file)\n",
    "    writer.writerow(['Object Name', 'Tag', 'Percent of Images where tag is in Description'])\n",
    "    writer.writerows(data)"
   ]
  },
  {
   "cell_type": "code",
   "execution_count": null,
   "metadata": {},
   "outputs": [],
   "source": [
    "### First Description Only###\n",
    "data = []\n",
    "\n",
    "# For each object\n",
    "for obj in objects:\n",
    "    # For each tag + percent occurence pair\n",
    "    for tag, percent in zip(obj.tags, occurrence_per_tag(obj, first_description_only=True)):\n",
    "        # Add to 'data' list\n",
    "        data.append((obj.name, tag, percent))\n",
    "        \n",
    "# Save 'data' as csv\n",
    "with open('NameOccurrenceFirstOnly.csv', 'w', newline='') as csv_file:\n",
    "    writer = csv.writer(csv_file)\n",
    "    writer.writerow(['Object Name', 'Tag', 'Percent of Images where tag is in Description'])\n",
    "    writer.writerows(data)"
   ]
  },
  {
   "attachments": {},
   "cell_type": "markdown",
   "metadata": {},
   "source": [
    "Histogram of Description Occurences"
   ]
  },
  {
   "cell_type": "code",
   "execution_count": null,
   "metadata": {},
   "outputs": [],
   "source": [
    "from collections import Counter\n",
    "import matplotlib.pyplot as plt"
   ]
  },
  {
   "cell_type": "code",
   "execution_count": null,
   "metadata": {},
   "outputs": [],
   "source": [
    "# For every object\n",
    "for obj in objects:\n",
    "    # Store descritptions from all images in a single list\n",
    "    all_descriptions = [description for descriptions in obj.descriptions.values() for description in descriptions]\n",
    "    # Dictionary to store counts for each description {description : count}\n",
    "    description_occurrence_count = Counter(all_descriptions)\n",
    "    \n",
    "    # Sort the dictionary by description count\n",
    "    sorted_items = sorted(description_occurrence_count.items(), key=lambda x: x[1], reverse=True)\n",
    "    # Isolate top 10 descriptions\n",
    "    top_items = sorted_items[:10]\n",
    "\n",
    "    labels = [item[0] for item in top_items]\n",
    "    values = [item[1] for item in top_items]\n",
    "        \n",
    "    # Create horrizontal bar plot\n",
    "    plt.barh(labels, values)\n",
    "    plt.xlabel('Description')\n",
    "    plt.ylabel('Number of Occurrences')\n",
    "    plt.title(f\"{obj.name} description counts\")\n",
    "    plt.tight_layout()\n",
    "    \n",
    "    # Save the plot as an image\n",
    "    plt.savefig(os.path.join('Histograms', f\"{obj.name}.png\"))\n",
    "    \n",
    "    # Clear the plot for the next object\n",
    "    plt.clf()\n"
   ]
  },
  {
   "cell_type": "code",
   "execution_count": null,
   "metadata": {},
   "outputs": [],
   "source": [
    "# For every object\n",
    "for obj in objects:\n",
    "    # Store descritptions from all images in a single list\n",
    "    all_first_descriptions = [descriptions[0] for descriptions in obj.descriptions.values()]\n",
    "    # Dictionary to store counts for each description {description : count}\n",
    "    first_description_occurrence_count = Counter(all_first_descriptions)\n",
    "    \n",
    "    # Sort the dictionary by description count\n",
    "    sorted_items = sorted(first_description_occurrence_count.items(), key=lambda x: x[1], reverse=True)\n",
    "    # Isolate top 10 descriptions\n",
    "    top_items = sorted_items[:10]\n",
    "\n",
    "    labels = [item[0] for item in top_items]\n",
    "    values = [item[1] for item in top_items]\n",
    "        \n",
    "    # Create horrizontal bar plot\n",
    "    plt.barh(labels, values)\n",
    "    plt.xlabel('Description')\n",
    "    plt.ylabel('Number of Occurrences')\n",
    "    plt.title(f\"{obj.name} description counts\")\n",
    "    plt.tight_layout()\n",
    "    \n",
    "    # Save the plot as an image\n",
    "    plt.savefig(os.path.join('FirstOnlyHistograms', f\"{obj.name}.png\"))\n",
    "    \n",
    "    # Clear the plot for the next object\n",
    "    plt.clf()\n"
   ]
  }
 ],
 "metadata": {
  "kernelspec": {
   "display_name": "Python 3",
   "language": "python",
   "name": "python3"
  },
  "language_info": {
   "codemirror_mode": {
    "name": "ipython",
    "version": 3
   },
   "file_extension": ".py",
   "mimetype": "text/x-python",
   "name": "python",
   "nbconvert_exporter": "python",
   "pygments_lexer": "ipython3",
   "version": "3.10.6"
  },
  "orig_nbformat": 4
 },
 "nbformat": 4,
 "nbformat_minor": 2
}
